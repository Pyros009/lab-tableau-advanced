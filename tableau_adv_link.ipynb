{
 "cells": [
  {
   "cell_type": "markdown",
   "metadata": {},
   "source": [
    "**Tableau link:** [Public tableau link](https://public.tableau.com/app/profile/ricardo.morgado2087/viz/tableau-adv-lab/Income_employ?publish=yes)"
   ]
  }
 ],
 "metadata": {
  "language_info": {
   "name": "python"
  }
 },
 "nbformat": 4,
 "nbformat_minor": 2
}
